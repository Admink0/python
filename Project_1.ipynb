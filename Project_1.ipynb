{
 "cells": [
  {
   "cell_type": "markdown",
   "metadata": {},
   "source": [
    "## Домашнее задание №2"
   ]
  },
  {
   "cell_type": "markdown",
   "metadata": {},
   "source": [
    "*Составлено с использованием материалов курса лекций «Программирование на языке Python для сбора и анализа данных» Щурова И.В., НИУ ВШЭ*"
   ]
  },
  {
   "cell_type": "markdown",
   "metadata": {},
   "source": [
    "***В сумме за домашнюю работу вы можете получить 33 балла.*** <br> \n",
    "***Итоговая оценка будет равна доле полученных баллов от общей суммы x10.*** \n",
    "<p>\n",
    "<font size='3' color=\"B3000C\">Ноутбук (файл в расширением .ipynb) выложите на свой git и пришлите ссылку на почту python.in.miigaik@gmail.com.<br> В теме письма укажите номер домашней работы и номер группы: HW... , Group... .</font>\n",
    "</p>"
   ]
  },
  {
   "cell_type": "markdown",
   "metadata": {},
   "source": [
    "### Задача 1 Приветствие (1 балл)\n",
    "\n",
    "Напишите программу, которая запрашивает имя пользователя, а затем приветствует его.\n",
    "\n",
    "**Вход**<br>\n",
    "Пользователь должен ввести с клавиатуры свое имя.<br>\n",
    "**Выход** <br>\n",
    "Программа должна выводить одну строчку:\n",
    "\n",
    "    Привет, имя!\n",
    "\n",
    "где имя — введенное пользователем имя. Обратите внимание на пробел после запятой. Других пробелов быть не должно.\n",
    "\n",
    "**Пример**<br>\n",
    "_Входные данные_<br>\n",
    "    бро <br>\n",
    "_Выходные данные_<br>\n",
    "    Привет, бро!\n",
    "\n",
    "\n",
    "_Подсказка._ Избавиться от лишних пробелов можно с помощью: \n",
    "1. Сложения строк (Например, `\"hello\"+\"world\"`) \n",
    "2. Специального параметра у функции `print`(.., `sep`). \n",
    "Узнайте о нем больше можно, если вы введете в пустой ячейке help(print) или print? и запустите ее."
   ]
  },
  {
   "cell_type": "code",
   "execution_count": null,
   "metadata": {},
   "outputs": [],
   "source": [
    "name = input('Введите ваше имя: ')\n",
    "print('Привет,', name, '!')"
   ]
  },
  {
   "cell_type": "markdown",
   "metadata": {},
   "source": [
    "### Задача 2 Возведение в степень.  (1 балл)\n",
    "\n",
    "Вычислите $2^{20}$. Выведите на экран вычисленное значение. "
   ]
  },
  {
   "cell_type": "code",
   "execution_count": null,
   "metadata": {},
   "outputs": [],
   "source": [
    "number = int(input('Введите число:'))\n",
    "degree = int(input('Введите степень числа: '))\n",
    "print('Ответ: ', number**degree)"
   ]
  },
  {
   "cell_type": "markdown",
   "metadata": {},
   "source": [
    "### Задача 3 Гипотенуза  (1 балл)\n",
    "Написать программу, в которой пользователь вводит поочередно длины катетов, а она в ответ выдает значение гипотенузы. \n",
    "\n",
    "**Вход** <br>\n",
    "C клавиатуры по очереди вводятся 2 числа.<br>\n",
    "**Выход** <br>\n",
    "Длина гипотенузы\n",
    "\n",
    "**Пример**<br>\n",
    "_Входные данные_<br>\n",
    "    3 <br>\n",
    "    4 <br>\n",
    "Выходные данные<br>\n",
    "    5.0"
   ]
  },
  {
   "cell_type": "code",
   "execution_count": null,
   "metadata": {},
   "outputs": [],
   "source": [
    "cat1 = int(input('Введите катет 1: '))\n",
    "cat2 = int(input('Введите катет 2: '))\n",
    "print('Длинна гипатенузы', int((cat1**2 + cat2**2)**0.5))"
   ]
  },
  {
   "cell_type": "markdown",
   "metadata": {},
   "source": [
    "### Задача 4 Делёж яблок  (1 балл)\n",
    "\n",
    "$n$ школьников делят $k$ яблок поровну, неделящийся остаток остается в корзинке. Сколько яблок достанется каждому школьнику?\n",
    "\n",
    "**Вход**<br>\n",
    "Пользователь вводит числа $n$ и $k$.<br>\n",
    "**Выход**<br>\n",
    "Программа должна вывести искомое количество яблок.\n",
    "\n",
    "**Пример**<br>\n",
    "_Входные данные_<br>\n",
    "    3<br>\n",
    "    14<br>\n",
    "_Выходные данные_<br>\n",
    "    4<br>"
   ]
  },
  {
   "cell_type": "code",
   "execution_count": null,
   "metadata": {},
   "outputs": [],
   "source": [
    "apple = int(input('Введите число яблок: '))\n",
    "stydent = int(input('Сколько школьников: '))\n",
    "print('Каждому достанется по', apple // stydent, 'яблок(а)')"
   ]
  },
  {
   "cell_type": "markdown",
   "metadata": {},
   "source": [
    "### Задача 5  (1 балл)\n",
    "\n",
    "Напишите программу, которая считывает целое число и выводит текст, указанный ниже, который содеражит следующее и предыдущее числа. Сохраните пробелы и переносы строк, указанные в тексте.\n",
    "\n",
    "**Вход**<br>\n",
    "> Вводится целое число.\n",
    "\n",
    "**Выход**<br>\n",
    ">    Получено число - *число*.<br>\n",
    "> Следующее число - *число*,  предыдущее число - *число*. \n",
    "\n",
    "**Пример**<br>\n",
    "_Входные данные_<br>\n",
    "    5<br>\n",
    "_Выходные данные_<br>\n",
    ">  Получено число - 5.<br>\n",
    "> Следующее число - 6,  предыдущее число - 4."
   ]
  },
  {
   "cell_type": "code",
   "execution_count": null,
   "metadata": {},
   "outputs": [],
   "source": [
    "val = int(input('Введите целое число: '))\n",
    "print('Получено число', val)\n",
    "print('Предыдущее число', val-1)\n",
    "print('Следующее число', val +1)"
   ]
  },
  {
   "cell_type": "markdown",
   "metadata": {},
   "source": [
    "### Задача 6  (1.5 балла)\n",
    "\n",
    "Пользователь вводит целое число $n$. Выведите следующее за ним четное число. При решении этой задачи нельзя использовать условный оператор `if` и циклы.\n",
    "\n",
    "\n",
    "**Вход**<br>\n",
    ">Вводится целое число.\n",
    "\n",
    "**Выход**\n",
    ">Выведите ответ на задачу.\n",
    "\n",
    "**Примеры**<br>\n",
    "_Входные данные_<br>\n",
    "    7<br>\n",
    "_Выходные данные_<br>\n",
    "    8<br>\n",
    "    \n",
    "_Входные данные_<br>\n",
    "    8 <br>\n",
    "_Выходные данные_<br>\n",
    "    10"
   ]
  },
  {
   "cell_type": "code",
   "execution_count": null,
   "metadata": {
    "scrolled": true
   },
   "outputs": [],
   "source": [
    "val = int(input('Введите целое число: '))\n",
    "print('Четное число', ((val//2)+1)*2)"
   ]
  },
  {
   "cell_type": "markdown",
   "metadata": {},
   "source": [
    "# Задача 7  (1.5 балла)\n",
    "\n",
    "Пользователь вводит целое скольугодно большое число. Найдите сумму его цифр.\n",
    "\n",
    "**Вход**<br>\n",
    "> Вводится целое положительное число.\n",
    "\n",
    "**Выход**<br>\n",
    ">Выведите ответ на задачу.\n",
    "\n",
    "**Пример**<br>\n",
    "_Входные данные_<br>\n",
    "2563<br>\n",
    "_Выходные данные_<br>\n",
    "16\n",
    "\n",
    "***Подсказка:*** *функция len() и проход циклом for для строк работают также как и для списков.*"
   ]
  },
  {
   "cell_type": "code",
   "execution_count": null,
   "metadata": {},
   "outputs": [],
   "source": [
    "val = input('Введите целое число: ')\n",
    "summ = 0\n",
    "for number in val:\n",
    "    summ += int(number)\n",
    "print('Сумма чисел:',summ)"
   ]
  },
  {
   "cell_type": "markdown",
   "metadata": {},
   "source": [
    "### Задача 8  (1 балл)\n",
    "Пользователь с клавиатуры вводит целое число $n$ - длина списка. Затем последовательно вводит $n$ объектов (любого типа) - элементы списка. После пользователь вводит еще одно число $k$, и еще один элемент.\n",
    "Ваша задача вставить в список на позицию с индексом $k$ последний введенный элемент. При этом все исходные элементы должны остаться в списке (просто некоторые чуть-чуть сдвинутся). \n",
    "Выведите на экран 2 строчки: старый список и новый.\n",
    "\n",
    "**Вход**<br>\n",
    " 3<br>\n",
    " 1<br>\n",
    " 2<br>\n",
    " 3<br>\n",
    " 1<br>\n",
    " 'insertion'<br>\n",
    "**Выход**<br>\n",
    "[1, 2, 3]<br>\n",
    "[1, 'insertion', 2, 3]"
   ]
  },
  {
   "cell_type": "code",
   "execution_count": null,
   "metadata": {},
   "outputs": [],
   "source": [
    "val = int(input('Введите размер массива: '))\n",
    "array = []\n",
    "for number in range(val):\n",
    "    array.append(input('Введите значение: '))\n",
    "print(array)\n",
    "sm = int(input('Введите где изменить 0-'+str(val-1)+' значение: '))\n",
    "out = input('Введите что вставить: ')\n",
    "array.insert(sm, out)\n",
    "print(array)\n",
    "     \n",
    "    "
   ]
  },
  {
   "cell_type": "markdown",
   "metadata": {},
   "source": [
    "### Задача 9  (1 балл)\n",
    "Как и в прошлом задании пользователь подает на вход список. Вам нужно вывести все элементы списка, стоящие на четных индексах.\n",
    "\n",
    "**Вход**<br>\n",
    "5<br>\n",
    "1<br>\n",
    "2<br>\n",
    "3<br>\n",
    "4<br>\n",
    "5<br>\n",
    "**Выход**<br>\n",
    "[1, 3, 5]"
   ]
  },
  {
   "cell_type": "code",
   "execution_count": null,
   "metadata": {},
   "outputs": [],
   "source": [
    "val = int(input('Введите размер массива: '))\n",
    "array = []\n",
    "out = []\n",
    "for number in range(val):\n",
    "    array.append(int(input('Заполните массив по одному числу: ')))\n",
    "for number in range(0,val,2):\n",
    "    #print(number)\n",
    "    out.append(array[number])\n",
    "print(out)"
   ]
  },
  {
   "cell_type": "markdown",
   "metadata": {},
   "source": [
    "### Задача 10  (1 балл)\n",
    "Пользователь поочередно вводит 2 целых числа $n$ и $m$, при чем $n \\le m$. Выведите все числа от $n$ до $m$ включительно.\n",
    "Обратите внимаие на формат вывода!\n",
    "\n",
    "**Ввод**<br>\n",
    "2<br>\n",
    "5<br>\n",
    "**Вывод**<br>\n",
    "2 3 4 5"
   ]
  },
  {
   "cell_type": "code",
   "execution_count": null,
   "metadata": {},
   "outputs": [],
   "source": [
    "val1 = int(input('Введите Первое число(меньше): '))\n",
    "val2 = int(input('Введите Второе число(больше): '))\n",
    "text = ''\n",
    "for number in range(val1,val2+1):\n",
    "    text +=  str(number) + ' '\n",
    "print(text)"
   ]
  },
  {
   "cell_type": "markdown",
   "metadata": {},
   "source": [
    "### Задача 11 Ряд Лейбница  (2 балла)\n",
    "Известно, что $$\\frac{\\pi}{4} = 1 - \\frac{1}{3} + \\frac{1}{5} - \\frac{1}{7} + \\frac{1}{9} -\\frac{1}{11} + \\dots$$\n",
    "Вычислите приближение к числу $\\pi$ , используя первые 100 членов этого ряда."
   ]
  },
  {
   "cell_type": "code",
   "execution_count": null,
   "metadata": {},
   "outputs": [],
   "source": [
    "i = 100\n",
    "summ = 0\n",
    "a = 0\n",
    "for number in range(1,i*2,4):\n",
    "    summ += 1/number\n",
    "    summ -= 1/(number+2)\n",
    "print(summ*4)\n",
    "    "
   ]
  },
  {
   "cell_type": "markdown",
   "metadata": {},
   "source": [
    "### Задача 12  (1 балл)\n",
    "Необходимо создать список арифметической прогрессии с шагом 1, начинающеся с 1, заданной пользователем длины. Затем нужно поменять местами нечетные элементы с их соседями справа. Если длина списка - нечетная, последний элемент остается на своем месте. На экран нужно вывести 2 строчки: арифметическую прогрессию до и после изменений.\n",
    "\n",
    "**Вход**<br>\n",
    "5<br>\n",
    "**Выход**<br>\n",
    "[1, 2, 3, 4, 5]<br>\n",
    "[2, 1, 4, 3, 5]"
   ]
  },
  {
   "cell_type": "code",
   "execution_count": null,
   "metadata": {},
   "outputs": [],
   "source": [
    "val = int(input('Введите число: '))\n",
    "array = []\n",
    "arrays = []\n",
    "for number in range(1,val+1):\n",
    "    array.append(number)\n",
    "print(array)\n",
    "for number in range(0,val-1,2):\n",
    "    out1 = array[number]\n",
    "    out2 = array[number+1]\n",
    "    array[number+1] = out1\n",
    "    array[number] = out2\n",
    "print(array)\n"
   ]
  },
  {
   "cell_type": "markdown",
   "metadata": {},
   "source": [
    "### Задача 13 Снежинка (2 балла)\n",
    "Пользователь вводит нечетное число n. Создайте двумерный массив из n×n элементов, заполнив его символами \".\" (каждый элемент массива является строкой из одного символа). Затем заполните символами \"*\" среднюю строку массива, средний столбец массива, главную диагональ и побочную диагональ. <br>\n",
    "В результате единицы в массиве должны образовывать изображение звездочки. Выведите полученный массив на экран, разделяя элементы массива пробелами.\n",
    "\n",
    "**Вход**<br>\n",
    "5<br>\n",
    "**Выход**<br>\n",
    "<pre class=\"output\">* . * . *\n",
    ". * * * .\n",
    "* * * * *\n",
    ". * * * .\n",
    "* . * . *</pre>\n",
    "\n",
    "**Вход**<br>\n",
    "3<br>\n",
    "**Выход**<br>\n",
    "<pre class=\"output\">* * *\n",
    "* * *\n",
    "* * *\n",
    "</pre>\n",
    "\n",
    "**Вход**<br>\n",
    "1<br>\n",
    "**Выход**<br>\n",
    "<pre class=\"output\">*\n",
    "</pre>"
   ]
  },
  {
   "cell_type": "code",
   "execution_count": null,
   "metadata": {},
   "outputs": [],
   "source": [
    "val = int(input(''))\n",
    "array = [[\".\"] * val for i in range(val)]\n",
    "for number in range(val):\n",
    "    array[number][number] = \"*\"\n",
    "    array[number][val // 2] = \"*\"\n",
    "    array[val // 2][number] = \"*\"\n",
    "    array[number][(val - 1)- number] = \"*\"\n",
    "for row in array:\n",
    "    print(' '.join(row))"
   ]
  },
  {
   "cell_type": "markdown",
   "metadata": {},
   "source": [
    "### Задача 14 Транспонирование матрицы  (3 балла)\n",
    "Вам дается матрица в виде списка списков. Необходимо вывести на экран ее транспонированный вид.\n",
    "Задачу необходимо решить в общем виде, то есть ширина и длина матрицы неизвестны заранее.\n",
    "\n",
    "**Вход**<br>\n",
    "[[1, 1, 1], <br>\n",
    " [2, 2, 2], <br>\n",
    " [3, 3, 3], <br>\n",
    " [4, 4, 4]]  <br>\n",
    "**Выход**<br>\n",
    "[[1, 2, 3, 4], <br>\n",
    " [1, 2, 3, 4], <br>\n",
    " [1, 2, 3, 4]] <br>"
   ]
  },
  {
   "cell_type": "code",
   "execution_count": null,
   "metadata": {},
   "outputs": [],
   "source": [
    "array = [[1,1,1],[2,2,2],[3,3,3],[4,4,4]]\n",
    "arrays = []\n",
    "for number in range(len(array[0])):\n",
    "    out = []\n",
    "    for a in range(len(array)):\n",
    "        out.append(array[a][number])\n",
    "    arrays.append(out)\n",
    "print(arrays)\n",
    "        "
   ]
  },
  {
   "cell_type": "markdown",
   "metadata": {},
   "source": [
    "### Задача 15  (1 балл)\n",
    "Пользователь задает число $n$. Необходимо вернуть словарь, где ключами бы являлись числа от -(n-1) до (n-1), а значения - квадраты этих чисел.\n",
    "\n",
    "**Ввод**<br>\n",
    "4<br>\n",
    "**Вывод**<br>\n",
    "{-3: 9, -2: 4, -1: 1, 0: 0, 1: 1, 2: 4, 3: 9}"
   ]
  },
  {
   "cell_type": "code",
   "execution_count": null,
   "metadata": {},
   "outputs": [],
   "source": [
    "val = int(input('Введите число: '))\n",
    "array = {a: a ** 2 for a in range(-val+1,val)}\n",
    "print(array)"
   ]
  },
  {
   "cell_type": "markdown",
   "metadata": {},
   "source": [
    "### Задача 16 Составление базы данных  (3 балла)\n",
    "1. Создайте словарь, где ключами являются имена (ваше и ваших 5 друзей), а значениями - возраст. Удалите один элемент словаря (себя). <br>\n",
    "P.s. работает та же функция, что и для списков <br>\n",
    "p.p.s del()\n",
    "2. Вычислите средний возраст ваших друзей.\n",
    "3. Создайте новый словарь, в котором все было бы наоборот: ключи - это возраст, а значения - имена.\n",
    "4. Имена всех ли друзей присутствуют в вашем новом словаре?"
   ]
  },
  {
   "cell_type": "code",
   "execution_count": null,
   "metadata": {},
   "outputs": [],
   "source": [
    "array = {'Nikita':22, 'Dima':22, 'Oleg':23, 'Tanya':20, 'Andrey':25, 'Vova':30}\n",
    "del array['Nikita']\n",
    "eayrs = list(array.values())\n",
    "print('Средний возраст:',int(sum(eayrs) / len(eayrs)))\n",
    "names = list(array.keys())\n",
    "arrays = dict(zip(eayrs, names))\n",
    "arrays\n"
   ]
  },
  {
   "cell_type": "markdown",
   "metadata": {},
   "source": [
    "### Задача 17 Составление базы данных  (5 баллов)\n",
    "Вам предостоит обработать базу данных о продажах некоторого интернет-магазина. База данных представляет собой набор кортежей, в каждом кортеже три элемента: (Покупатель, товар, количество), где Покупатель — имя покупателя (строка без пробелов), товар — название товара (строка без пробелов), количество — количество приобретенных единиц товара.\n",
    "\n",
    "1. Создайте словарь, ключами которого являются имена покупателей, а значениями — словари, ключами которых являются названия товаров, а значениями — количество единиц этого товара, которые купил этот покупатель.\n",
    "2. А затем вычислите сколько всего товара купил Сидоров? А Иванов?\n",
    "3. Найдите всех кто купил ручки.\n",
    "4. Удалите переменную dataset.\n",
    "5. Найдите сколько всего товара было куплено.\n",
    "\n",
    "***Внимание!*** Конструкцией if else пользоваться нельзя! Подумайте, как обойти этот момент...\n",
    "\n",
    "***Подсказки:*** \n",
    "* Для выполнения первого пункта цикл придется запустить дважды.\n",
    "* Для выполнения последнего пункта вам потребуется создать еще один словарь.*"
   ]
  },
  {
   "cell_type": "code",
   "execution_count": null,
   "metadata": {},
   "outputs": [],
   "source": [
    "dataset = (\n",
    "(\"Иванов\",\"ручки\",2), \n",
    "(\"Петров\",\"ручки\",3), \n",
    "(\"Кулаков\",\"ручки\",6), \n",
    "(\"Петров\",\"маркеры\",7), \n",
    "(\"Кулаков\",\"маркеры\",8), \n",
    "(\"Миронов\",\"салфетки\",3), \n",
    "(\"Петров\",\"стикеры\",7), \n",
    "(\"Кулаков\",\"бумага\",345), \n",
    "(\"Миронов\",\"стикеры\",45), \n",
    "(\"Суконов\",\"ручки\",34), \n",
    "(\"Иванов\",\"конверты\",45))"
   ]
  },
  {
   "cell_type": "code",
   "execution_count": null,
   "metadata": {},
   "outputs": [],
   "source": [
    "names = []\n",
    "items = {}\n",
    "for i in range(len(dataset)):\n",
    "    names.append(dataset[i][0])\n",
    "lines = dict.fromkeys(names, {})\n",
    "pay = dict.fromkeys(names, 0)\n",
    "for i in range(len(dataset)):\n",
    "    data = {dataset[i][1]: dataset[i][2]}\n",
    "    lines[dataset[i][0]] = {**lines[dataset[i][0]], **data}\n",
    "for name in lines:\n",
    "    for type in lines[name]:\n",
    "        pay[name] = pay[name] + lines[name][type]\n",
    "    for pans in range(1,lines[name].get('ручки',0)+1):\n",
    "        items[name] = pans\n",
    "del dataset\n",
    "allpay = 0\n",
    "for name in pay:\n",
    "    allpay += pay[name]\n",
    "print(lines)\n",
    "print(pay)\n",
    "print(items)\n",
    "print('Всего куплено',allpay,'единиц товара')"
   ]
  },
  {
   "cell_type": "markdown",
   "metadata": {},
   "source": [
    "### Задача 18 Перевод с эльфийского  (5 баллов)\n",
    "\n",
    "1. Переведите текст и выведите его на экран в виде строки (а не списка слов).\n",
    "2. Создайте словарь, где ключами являются слова, а значениям индекс места, где это слово встречается впервые в тексте.\n",
    "3. Восстановите текст по данному словарю, насколько это возможно: текст должен быть той же длины, что и исходный, на местах пропущенных слов должно стоять <потеряно>.\n",
    "4. Выведите текст на экран в виде строки.\n",
    "5. Сколько слов восстановить не удалось?"
   ]
  },
  {
   "cell_type": "code",
   "execution_count": null,
   "metadata": {},
   "outputs": [],
   "source": [
    "text_sindarin = ['Ilu,', 'varta', 'inye,', 'ruc-', 'sina', 'ana,', 'nen', 'ruc-', 'ana,', 'Arda', 'ana,', 'vista,',\n",
    " 'limbe', 'et', 'ma', 'na-', 'auta-', 'a,', 'ava', 'er-', 'man', 'nan', 'os', 'sina', 'ilquen', 'horya', 'et',\n",
    " 'alta', 'corma', 'nelde', 'na-', 'elda', 'ilfirin', 'onna', 'ngola,', 'a,', 'faila', 'et', 'ilquen', 'mar-,',\n",
    " 'otso', 'dancil', 'norno,', 'alta', 'farea', 'a,', 'curuvar', 'oron', 'felya,', 'nerte', 'nerte', 'corma', 'na-',\n",
    " 'firya', 'qwanur', 'ya', 'ilqua', 'here', 'ana,', 'sina', 'corma', 'na-', 'tuo', 'here', 'or', 'ilya', 'et',\n",
    " 'lie', 'ananta', 'ilquen', 'toi,', 'gweria', 'nan', 'ma', 'na-', 'yando', 'er,', 'corma', 'ana,', 'nore',\n",
    " 'mordor', 'ana,', 'sa,', 'oron', 'morna', 'harya-', 'sauron', 'lomba', 'er', 'corma', 'ilquen', 'nan', 'a,',\n",
    " 'ana,', 'sina', 'corma', 'se', 'ilquen', 'alica', 'ilquen', 'umea', 'a,', 'ilquen', 'here', 'or', 'ilquen',\n",
    " 'mar-,', 'er,', 'corma', 'tur-', 'ilquen']"
   ]
  },
  {
   "cell_type": "code",
   "execution_count": null,
   "metadata": {},
   "outputs": [],
   "source": [
    "dictionary_from_sindarin = {'Arda': 'земля', 'Ilu,': 'мир', 'a,': 'и', 'alica': 'жестокость', 'alta': 'великое',\n",
    " 'ana,': 'в', 'ananta': 'но', 'auta-': 'уйти', 'ava': 'не', 'corma': 'кольцо', 'curuvar': 'мастеровой',\n",
    " 'dancil': 'повелитель', 'elda': 'эльф', 'er': 'единый', 'er,': 'один', 'er-': 'остаться', 'et': 'с',\n",
    " 'faila': 'справедливый', 'farea': 'добытчик', 'felya,': 'пещера', 'firya': 'человеческий', 'gweria': 'обмануть',\n",
    " 'harya-': 'властелин', 'here': 'власть', 'horya': 'начаться', 'ilfirin': 'бессмертный', 'ilqua': 'всего',\n",
    " 'ilquen': 'весь', 'ilya': 'каждый', 'inye,': 'я', 'lie': 'народ', 'limbe': 'многий', 'lomba': 'тайно',\n",
    " 'ma': 'что', 'man': 'кто', 'mar-,': 'жить', 'mordor': 'мордора', 'morna': 'тёмный', 'na-': 'быть',\n",
    " 'nan': 'другой', 'nelde': 'три', 'nen': 'вода', 'nerte': 'девять', 'ngola,': 'мудрый', 'nore': 'страна',\n",
    " 'norno,': 'гном', 'onna': 'создание', 'or': 'над', 'oron': 'гора', 'os': 'о', 'otso': 'семь', 'qwanur': 'род',\n",
    " 'ruc-': 'чувствовать', 'sa,': 'огонь', 'sauron': 'саурон', 'se': 'он', 'sina': 'этот', 'toi,': 'они',\n",
    " 'tuo': 'сила', 'tur-': 'править', 'umea': 'злоба', 'varta': 'измениться', 'vista,': 'воздух', 'ya': 'который',\n",
    " 'yando': 'ещё'}"
   ]
  },
  {
   "cell_type": "code",
   "execution_count": null,
   "metadata": {},
   "outputs": [],
   "source": [
    "massage = []\n",
    "fullText = ''\n",
    "rfullText = ''\n",
    "dictionary_from_sindarin['null'] = '<пропуск>'\n",
    "array = {}\n",
    "for text in text_sindarin:\n",
    "    fullText += dictionary_from_sindarin[text] + ' '\n",
    "    array[text_sindarin.index(text)] = text\n",
    "for number in range(len(text_sindarin)):\n",
    "    massage.append(dictionary_from_sindarin[array.get(number,'null')]+' ')\n",
    "    rfullText += massage[number]\n",
    "print('Полный текст:')\n",
    "print(fullText)\n",
    "print()\n",
    "print('Текст с пропусками:')\n",
    "print(rfullText)\n",
    "print()\n",
    "print('Восстановить не удалось:', massage.count('<пропуск> '), 'слов')\n",
    "print()"
   ]
  },
  {
   "cell_type": "markdown",
   "metadata": {},
   "source": [
    "## Обратная связь"
   ]
  },
  {
   "cell_type": "markdown",
   "metadata": {},
   "source": [
    "Пожалуйста, пройдите [анкету](https://goo.gl/forms/IeIO2lVd9iY7GN4v2) и оставьте свои впечатления от домашней работы / лекции. Мы очень хотим стать для вас лучше)))"
   ]
  }
 ],
 "metadata": {
  "kernelspec": {
   "display_name": "Python 3",
   "language": "python",
   "name": "python3"
  },
  "language_info": {
   "codemirror_mode": {
    "name": "ipython",
    "version": 3
   },
   "file_extension": ".py",
   "mimetype": "text/x-python",
   "name": "python",
   "nbconvert_exporter": "python",
   "pygments_lexer": "ipython3",
   "version": "3.7.0"
  }
 },
 "nbformat": 4,
 "nbformat_minor": 2
}
