{
 "cells": [
  {
   "cell_type": "markdown",
   "metadata": {},
   "source": [
    "## Домашняя работа 4"
   ]
  },
  {
   "cell_type": "markdown",
   "metadata": {},
   "source": [
    "***В сумме за домашнюю работу вы можете получить 17 баллов.*** <br> \n",
    "***Итоговая оценка будет равна доле полученных баллов от общей суммы x10.*** \n",
    "<p>\n",
    "<font size='3' color=\"B3000C\">Ноутбук (файл в расширением .ipynb) выложите на свой git и пришлите ссылку на почту python.in.miigaik@gmail.com.<br> В теме письма укажите номер домашней работы и номер группы: HW... , Group... .</font>\n",
    "</p>"
   ]
  },
  {
   "cell_type": "markdown",
   "metadata": {},
   "source": [
    "### Задача 1 «Длина отрезка»   (1 балл)\n",
    "Пользователь с клавиатуры вводит четыре действительных числа: x1, y1, x2, y2. Напишите функцию distance(x1, y1, x2, y2), вычисляющая расстояние между точкой (x1,y1) и (x2,y2). \n",
    "<img src=\"http://www.codecogs.com/gif.latex?d=\\sqrt{(x_2-x_1)^2+(y_2-y_1)^2}\">"
   ]
  },
  {
   "cell_type": "code",
   "execution_count": null,
   "metadata": {},
   "outputs": [],
   "source": [
    "def distance (x1, x2, y1, y2):\n",
    "    d = pow((pow((x2 - x1), 2)+pow((y2 - y1), 2)), 0.5)\n",
    "    return d\n",
    "x1 = int(input('Введите X1: '))\n",
    "x2 = int(input('Введите X2: '))\n",
    "y1 = int(input('Введите Y1: '))\n",
    "y2 = int(input('Введите Y2: '))\n",
    "print(distance(x1, x2, y1, y2))"
   ]
  },
  {
   "cell_type": "markdown",
   "metadata": {},
   "source": [
    "### Задача 2 (2 балла)\n",
    "Вам дается два списка строк. Будем рассматривать следующие разности:  $$|len(a) - len(b)|,$$ где a - элемент из первого списка, а b - из второго. <br>\n",
    "Напишите функцию, которая возвращает наибольшую такую разность.\n",
    "На вход такой функции подается два списка строк.\n",
    "\n",
    "** Подсказка **\n",
    "abs() - функция нахождения модуля."
   ]
  },
  {
   "cell_type": "code",
   "execution_count": null,
   "metadata": {},
   "outputs": [],
   "source": [
    "first_list = ['Ночь', 'улица', 'фонарь', 'аптека', 'Бессмысленный', 'и', 'тусклый', 'свет']\n",
    "second_list = ['Живи', 'еще', 'хоть', 'четверть', 'века', 'Все', 'будет', 'так', 'Исхода', 'нет']"
   ]
  },
  {
   "cell_type": "code",
   "execution_count": null,
   "metadata": {},
   "outputs": [],
   "source": [
    "def razn(first, second):\n",
    "    array = []\n",
    "    if(len(first) > len(second)):\n",
    "        stop = len(second) - 1\n",
    "        for i in range(len(first)):\n",
    "            if(i > stop):\n",
    "                array.append(abs(len(first) - 0))\n",
    "            else:\n",
    "                array.append(abs(len(first[i]) - len(second[i])))\n",
    "    else:\n",
    "        stop = len(first) - 1\n",
    "        for i in range(len(second)):\n",
    "            if(i > stop):\n",
    "                array.append(abs(0 - len(second[i])))\n",
    "            else:\n",
    "                array.append(abs(len(first[i]) - len(second[i])))\n",
    "    print(max(array))\n",
    "razn(first_list, second_list)"
   ]
  },
  {
   "cell_type": "markdown",
   "metadata": {},
   "source": [
    "### Задача 3 (1 балл)\n",
    "Вам дается строка в которой присутвуют подряд идущие одинаковые символы. Напишите функцию, которая принимает строку и возвращает ее в \"нормальном\" виде: то есть из подряд идущих одинаковых символов оставляет только один.\n",
    "\n",
    "**Пример **<br>\n",
    "'Привеееееееет!!! Я тттвоя новаяяя стррока)))))' -> 'Привет! Я твоя новая строка)'\n"
   ]
  },
  {
   "cell_type": "code",
   "execution_count": null,
   "metadata": {},
   "outputs": [],
   "source": [
    "def slova( change ):\n",
    "    last = ''\n",
    "    new = ''\n",
    "    for b in change:\n",
    "        if(b != last):\n",
    "            new += b\n",
    "            last = b\n",
    "        \n",
    "    print(new)\n",
    "slova(input('Введите фразу: '))"
   ]
  },
  {
   "cell_type": "markdown",
   "metadata": {},
   "source": [
    "### Задача 4 (1 балл)\n",
    "Напишите функцию, на вход которой подается строка и которая должна вернуть строку - часть алфавита, в которой буква будет заглавной, если ее не было в строке,  и маленькой, если она была в строке. При этом нужно вывести ту часть алфавита, которая начинается с первого символа присутствующего в строке и заканчивается также символом присутствующем в строке.\n",
    "\n",
    "** Подсказка**<br>\n",
    "Чтобы не писать алфавиты вручную, воспользуйтесь функциями ord() и chr()? кторые по заданным символам или номерам, соответственно, выводят символ или его номер.<br>\n",
    "ord('a') == 97, chr(97) == 'a'\n",
    "\n",
    "**Пример**<br>\n",
    "***Вход***<br>\n",
    "\"holly\"<br>\n",
    "***Выход***<br>\n",
    "\"hIJKMNPQRSTUVWXZoPQRSTUVWXZlMNPQRSTUVWXZly\""
   ]
  },
  {
   "cell_type": "code",
   "execution_count": null,
   "metadata": {},
   "outputs": [],
   "source": [
    "#alf = 'abcdefghijklmnopqrstuvwxyz'\n",
    "def pizd( latter ):\n",
    "    chair = ''\n",
    "    old = ''\n",
    "    for char in range(0,(len(latter)-1)):\n",
    "        #print(char)\n",
    "        number = ord(latter[char])\n",
    "        chair += latter[char].lower()\n",
    "        if latter[char].lower() != old:\n",
    "            while number < ord('z'):\n",
    "                number += 1\n",
    "                for i in latter:\n",
    "                    if chr(number) == i:\n",
    "                        new = ''\n",
    "                        break\n",
    "                    else:\n",
    "                        new = chr(number)\n",
    "                chair += new.upper()\n",
    "        old = latter[char].lower()\n",
    "    chair += latter[-1].lower()\n",
    "    print(chair)  \n",
    "        \n",
    "pizd('hello')"
   ]
  },
  {
   "cell_type": "markdown",
   "metadata": {},
   "source": [
    "### Задача 5 (2 балла)\n",
    "Напишите функцию - кассовый аппарат, на вход которой подается содержимое кассы в виде словаря, где ключи - номиналы купюр, а значения - количества купюр данного номинала, находящиеся в кассе. Также на вход функции подается число - сдача, которую необходимо выдать из кассы. Если в кассе найдется такой набор купюр, чтобы выдать запрошенную сдачу - функция должна вернть True, если нет - False.<br>\n",
    "Купюры могут быть номиналом только 25, 50 и 100.\n",
    "\n",
    "**Пример** <br>\n",
    "cashbox = {25:1, 50:2, 100:1} <br>\n",
    "give_change(cashbox, 300) -> False  <br>\n",
    "give_change(cashbox, 75) -> True <br>\n",
    "give_change(cashbox, 0) -> True  <br>"
   ]
  },
  {
   "cell_type": "code",
   "execution_count": null,
   "metadata": {},
   "outputs": [],
   "source": [
    "cashbox = {25:1, 50:2, 100:1}\n",
    "def kassa ( cash, num ):\n",
    "    summ = 0\n",
    "    sd = num\n",
    "    end = ''\n",
    "    cashRevers = sorted(cash.keys(), reverse=True)\n",
    "    for i in cashRevers:\n",
    "        for s in range(cash[i]): \n",
    "            if sd == 0:\n",
    "                end = True\n",
    "            elif (sd - i) < 0:\n",
    "                end = False\n",
    "                break \n",
    "            elif (sd - i) > 0:\n",
    "                end = False\n",
    "                sd -= i\n",
    "            elif (sd - i) == 0:\n",
    "                sd -= i\n",
    "                end = True\n",
    "    return(end)\n",
    "\n",
    "kassa(cashbox, int(input('Введите сдачу: ')))"
   ]
  },
  {
   "cell_type": "markdown",
   "metadata": {},
   "source": [
    "### Задача 6 (1 балл)\n",
    "Иннокентий работает кассиром в кинотеатре. Билет на любой фильм стоит 25.**-** В кассу выстроилась очередь, у всех купюры номиналом 25, 50 или 100.**-**. В кинотеатре правило: 1 билет в одни руки. У Кеши пустая касса. Сможет ли он обслужить всех людей из очереди (то есть своевременно выдать каждому сдачу)? Люди в очереди местами не меняются.\n",
    "\n",
    "Напишите функцию, на вход которой подается очередь (список из купюр, которые каждый посетитель собирается отдать) и которая возвращает True - если Кеша сможет всех обслужить и False - если нет. <br>\n",
    "P.s. очередь может быть любой длины. <br>\n",
    "P.p.s. используете функцию - кассовый аппарат, который вы написали в прошлом задании. \n",
    "\n",
    "**Пример **<br>\n",
    "Kesha(25, 25, 50) -> True<br>\n",
    "Kesha(25, 100) -> False<br>\n",
    "Kesha(25, 25, 50, 50, 100) -> False<br>"
   ]
  },
  {
   "cell_type": "code",
   "execution_count": null,
   "metadata": {},
   "outputs": [],
   "source": [
    "def kesha ( cash ):\n",
    "    arr = {}\n",
    "    arr1 = {}\n",
    "    price = 25\n",
    "    for i in cash:\n",
    "        arr[i] = 0\n",
    "    for i in cash:\n",
    "        if i != price:\n",
    "            if kassa(arr, i-price):\n",
    "                arr1 = arr\n",
    "                summ = i\n",
    "                for s, a in arr.items():\n",
    "                    for b in range(a):\n",
    "                        if  summ == price:\n",
    "                            arr1[s] -= 1\n",
    "                            arr = arr1\n",
    "                            arr[i] += 1\n",
    "                            error = True\n",
    "                            break\n",
    "                        if  (summ - s) == price:\n",
    "                            summ -= s\n",
    "                            arr1[s] -= 1\n",
    "                            arr = arr1\n",
    "                            arr[i] += 1\n",
    "                            error = True\n",
    "                            break\n",
    "                        elif (summ - s) > price:\n",
    "                            summ -= s\n",
    "                            arr1[s] -= 1\n",
    "                            error = False\n",
    "                        elif (summ - s) < price:\n",
    "                            error = False\n",
    "                            break\n",
    "            else:\n",
    "                error = False\n",
    "        else:\n",
    "            arr[i] += 1\n",
    "    return error\n",
    "kesha((25, 50, 25, 50, 25, 100))"
   ]
  },
  {
   "cell_type": "markdown",
   "metadata": {},
   "source": [
    "### Задача 7 Кегельбан (2 балла)\n",
    "N кеглей выставили в один ряд, занумеровав их слева направо числами от 1 до N. Затем по этому ряду бросили K шаров, при этом i-й шар сбил все кегли с номерами от li до ri включительно. <br>\n",
    "Напишите функцию, которая получает на вход количество кеглей N и количество бросков K, и возвращает последовательность из N символов, где j-й символ есть \"I\", если j-я кегля осталась стоять, или \".\", если j-я кегля была сбита.<br>\n",
    "Броски происходят внутри функции.\n",
    "\n",
    "**Примеры**<br>\n",
    "***Вход***<br>\n",
    "20 3<br>\n",
    "*броски*<br>\n",
    "3 8<br>\n",
    "13 17<br>\n",
    "6 9<br>\n",
    "***Выход***<br>\n",
    "II.......III.....III\n",
    "\n",
    "\n",
    "***Вход*** <br>\n",
    "5 0<br>\n",
    "***Выход*** <br>\n",
    "IIIII"
   ]
  },
  {
   "cell_type": "code",
   "execution_count": null,
   "metadata": {},
   "outputs": [],
   "source": [
    "def kegl (value, kol):\n",
    "    arr = []\n",
    "    for i in range(value):\n",
    "        arr.append('I')\n",
    "    for i in range(kol):\n",
    "        arr = bro(arr, int(input('Сбитые кегли(начало) ')), int(input('Сбитые кегли(конец) ')))\n",
    "    print(''.join(arr))\n",
    "def bro (arr, *value):\n",
    "    for i in range(value[0]-1, value[1]):\n",
    "        arr[i] = '.'\n",
    "    return arr\n",
    "kegl(20, 3)"
   ]
  },
  {
   "cell_type": "markdown",
   "metadata": {},
   "source": [
    "### Задача 8 Записная книжка (3 балла)\n",
    "Раньше Ева вела записную книжку хаотично - имена, адреса, номера были перемешаны в строке, но при этом в одной строке записана информация только об одном человеке. Ваша задача написать функцию, которая содержимое книжки переведет словарь со структурой, приведенной в примере. <br>\n",
    "При этом содержимое книжки подается в виде одного элемента типа строка: строчки записной книжки разделяются символом переноса строки \"\\n\", ФИО человека заключено в елочки: <>, номер обязтельно начинается с +, остальное является адресом, элементы отделяются друг от друга двумя пробелами, адрес может быть написан с разрывом. При этом Ева иногда в записях делала пометки в виде \"?\" и \"!\". Эти пометки не должны войти в конечный словарь.\n",
    "\n",
    "**Пример**<br>"
   ]
  },
  {
   "cell_type": "code",
   "execution_count": null,
   "metadata": {},
   "outputs": [],
   "source": [
    "s = '''+1-541-754-3010 156?!  Мосфильмовская 34,  <Рождественский Р.>\\n  ул. Большая Полянка, <Воронцов Михаил>  Москва!  +7-923-911-2134\\n<Кужим>  Санкт-Петербург, ул.Свободы,  +34-3145-3245  ?дом 1'''\n",
    "def parse_str(s):\n",
    "    s = s.replace('?!', '/')\n",
    "    s = s.replace('!', '/')\n",
    "    s = s.replace('?', '/')\n",
    "    s = s.replace(',', '/')\n",
    "    s = s.replace('>', '>/')\n",
    "    s = s.replace('<', '/<')\n",
    "    s = s.replace('  ', '')\n",
    "    arr = s.split('\\n')\n",
    "    obj = {}\n",
    "    mass = {}\n",
    "    returnMass = {}\n",
    "    for line in arr:\n",
    "        adress = ''\n",
    "        phone = ''\n",
    "        tab = line.split('/')\n",
    "        tab = [x for x in tab if x and x != ' ']\n",
    "        for slic in tab: \n",
    "           # print(tab)\n",
    "            if slic[0] == '+':\n",
    "                phone = slic\n",
    "            elif slic[0] == '<':\n",
    "                name = slic\n",
    "                name = name.replace('<', '')\n",
    "                name = name.replace('>', '')\n",
    "            else:\n",
    "                if slic[0] == ' ':\n",
    "                    slic = slic[1:]\n",
    "                adress += slic + ', '\n",
    "        adress = adress[:-2]\n",
    "        obj = {'adress': adress, 'phone':phone}\n",
    "        mass[name] = obj\n",
    "    for key in sorted(mass):\n",
    "        returnMass[key] = mass[key]\n",
    "    return returnMass\n",
    "d = parse_str(s)     \n",
    "d"
   ]
  },
  {
   "cell_type": "markdown",
   "metadata": {},
   "source": [
    "### Задача 9  «Диагонали, параллельные главной» (1 балл)\n",
    "На вход функции подается число n. Функция должна создать массив $n\\times n$ и заполнить его по следующему правилу. На главной диагонали должны быть записаны числа 0. На двух диагоналях, прилегающих к главной, числа 1. На следующих двух диагоналях числа 2, и т.д.\n",
    "\n",
    "**Пример**<br>\n",
    "***Вход***<br>\n",
    "5<br>\n",
    "***Выход***\t<br>\n",
    "0 1 2 3 4<br>\n",
    "1 0 1 2 3<br>\n",
    "2 1 0 1 2<br>\n",
    "3 2 1 0 1<br>\n",
    "4 3 2 1 0<br>"
   ]
  },
  {
   "cell_type": "code",
   "execution_count": null,
   "metadata": {},
   "outputs": [],
   "source": [
    "def diag(number):\n",
    "    arr1 = []\n",
    "    arr = []\n",
    "    for i in range(number):\n",
    "        arr1.append(str(i))\n",
    "        arr2 = []\n",
    "        arr2.extend(arr1)\n",
    "        arr2.reverse()\n",
    "        for a in range(1,number):\n",
    "            if len(arr2) < number:\n",
    "                arr2.append(str(a))\n",
    "        arr.append(arr2)\n",
    "    return(arr)\n",
    "for row in diag(5):\n",
    "     print(' '.join(row))\n"
   ]
  },
  {
   "cell_type": "markdown",
   "metadata": {},
   "source": [
    "### Задача 10 Числа Фибоначчи (3 балла)\n",
    "Напишите функцию fib(n), которая по данному целому неотрицательному n возвращает n-e число Фибоначчи. В этой задаче нельзя использовать циклы — используйте рекурсию."
   ]
  },
  {
   "cell_type": "code",
   "execution_count": null,
   "metadata": {},
   "outputs": [],
   "source": [
    "def fib(n):\n",
    "    fib = 0\n",
    "    fibOld2 = 0\n",
    "    fibOld1 = 1\n",
    "    for i in range(1,n):\n",
    "        fib = fibOld1 + fibOld2\n",
    "        fibOld2 = fibOld1\n",
    "        fibOld1 = fib\n",
    "        print(i, fib)\n",
    "    return(fib)\n",
    "fib(10)"
   ]
  },
  {
   "cell_type": "markdown",
   "metadata": {},
   "source": [
    "### Обратная связь"
   ]
  },
  {
   "cell_type": "markdown",
   "metadata": {},
   "source": [
    "Пожалуйста, пройдите [анкету](https://goo.gl/forms/IeIO2lVd9iY7GN4v2) и оставьте свои впечатления от домашней работы / лекции. Мы очень хотим стать для вас лучше)))"
   ]
  }
 ],
 "metadata": {
  "anaconda-cloud": {},
  "kernelspec": {
   "display_name": "Python 3",
   "language": "python",
   "name": "python3"
  },
  "language_info": {
   "codemirror_mode": {
    "name": "ipython",
    "version": 3
   },
   "file_extension": ".py",
   "mimetype": "text/x-python",
   "name": "python",
   "nbconvert_exporter": "python",
   "pygments_lexer": "ipython3",
   "version": "3.7.0"
  }
 },
 "nbformat": 4,
 "nbformat_minor": 2
}
