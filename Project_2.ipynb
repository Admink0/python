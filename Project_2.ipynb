{
 "cells": [
  {
   "cell_type": "markdown",
   "metadata": {},
   "source": [
    "## Домашнее задание №3"
   ]
  },
  {
   "cell_type": "markdown",
   "metadata": {},
   "source": [
    "*Составлено с использованием материалов курса лекций «Программирование на языке Python для сбора и анализа данных» Щурова И.В., НИУ ВШЭ*"
   ]
  },
  {
   "cell_type": "markdown",
   "metadata": {},
   "source": [
    "***В сумме за домашнюю работу вы можете получить 18 баллов.*** <br> \n",
    "***Итоговая оценка будет равна доле полученных баллов от общей суммы x10.*** \n",
    "<p>\n",
    "<font size='3' color=\"B3000C\">Ноутбук (файл в расширением .ipynb) выложите на свой git и пришлите ссылку на почту python.in.miigaik@gmail.com.<br> В теме письма укажите номер домашней работы и номер группы: HW... , Group... .</font>\n",
    "</p>"
   ]
  },
  {
   "cell_type": "markdown",
   "metadata": {},
   "source": [
    "### Задача 1 Сортировка (1 балл)\n",
    "На вход поступает список из вещественных чисел. Отсортировать его по возрастанию, элементы в отсортированном списке должны иметь 3 знака после запятой.\n",
    "<br> **Входные данные**: [1.0,-2.0,3.0].<br> **Выходные данные**: [-2.000,1.000,3.000]"
   ]
  },
  {
   "cell_type": "code",
   "execution_count": null,
   "metadata": {},
   "outputs": [],
   "source": [
    "a = [1.0,-2.0,3.0]\n",
    "b = []\n",
    "for i in a:\n",
    "    b.append('%.3f' % i)\n",
    "b.sort()\n",
    "print(b)"
   ]
  },
  {
   "cell_type": "markdown",
   "metadata": {},
   "source": [
    "### Задача 2 Средний символ (1 балл)\n",
    "На вход поступает строка. Ваша задача - вернуть средний символ строки. Если длина строки нечетна, верните средний символ. Если длина строки четная, верните средние 2 символа.\n",
    "<br> **Входные данные** : \"test\". **Выходные данные**: \"es\"\n",
    "<br> **Входные данные** : \"sunsets\". **Выходные данные**: \"s\""
   ]
  },
  {
   "cell_type": "code",
   "execution_count": null,
   "metadata": {},
   "outputs": [],
   "source": [
    "char = input('Введите слово :')\n",
    "mas = len(char)%2\n",
    "number = int(len(char)//2)\n",
    "if mas > 0:\n",
    "    print(char[number])\n",
    "else:\n",
    "    print(char[number-1]+char[number])"
   ]
  },
  {
   "cell_type": "markdown",
   "metadata": {},
   "source": [
    "### Задача 3 Еще одна задача со строками (1 балл)\n",
    "На вход подается предложение из слов. Ваша задача вернуть тоже самое предложение, в котором все слова длины больше 5 записаны в обратном порядке.\n",
    "<br> **Входные данные** : \"Hey fellow warriors\". **Выходные данные**: \"Hey wollef sroirraw\" \n",
    "<br> **Входные данные** : \"This is a test\". **Выходные данные**: \"This is a test\""
   ]
  },
  {
   "cell_type": "code",
   "execution_count": null,
   "metadata": {},
   "outputs": [],
   "source": [
    "char = input('Введите предложение: ')\n",
    "arr = char.split()\n",
    "word = ''\n",
    "for i in arr:\n",
    "    if len(i) > 4:\n",
    "        for letter in range(len(i)):\n",
    "            word += i[-(letter+1)]\n",
    "    else:\n",
    "        word += i\n",
    "    word += ' '\n",
    "print(word)"
   ]
  },
  {
   "cell_type": "markdown",
   "metadata": {},
   "source": [
    "### Задача 4 ДНК (1 балл)\n",
    "На вход подается строка \"ДНК\". Ваша цель построить комплиментарную цепь к этой ДНК. Материал для [справки](https://bit.ly/2gyHYCV), как меняются отдельные азотистые основания.\n",
    "<br> **Входные данные**: \"ATTGC\". **Выходные данные**:\"TAACG\"\n",
    "<br> **Входные данные**: \"GTAT\". **Выходные данные**:\"CATA\""
   ]
  },
  {
   "cell_type": "code",
   "execution_count": null,
   "metadata": {},
   "outputs": [],
   "source": [
    "dnk = input('Введите DNK: ')\n",
    "dnko = ''\n",
    "for letter in dnk:\n",
    "    if letter == 'A':\n",
    "        dnko += 'T'\n",
    "    elif letter == 'T':\n",
    "        dnko += 'A'\n",
    "    elif letter == 'C':\n",
    "        dnko += 'G'\n",
    "    elif letter == 'G':\n",
    "        dnko += 'C'\n",
    "print(dnko)"
   ]
  },
  {
   "cell_type": "markdown",
   "metadata": {},
   "source": [
    "### Задача 5 Танцевальная музыка (1 балл)\n",
    "В клубной музыке принято использовать различные звуковые эффекты. Ваша цель очистить строку от музыкального эффекта \"BOOM\".\n",
    "<br> **Входные данные**: \"BOOMWEBOOMAREBOOMBOOMTHEBOOMCHAMPIONSBOOMMYBOOMFRIENDBOOM\". **Выходные данные**:\"WE ARE THE CHAMPIONS MY FRIEND\""
   ]
  },
  {
   "cell_type": "code",
   "execution_count": null,
   "metadata": {},
   "outputs": [],
   "source": [
    "lines = input('Введите строку: ')\n",
    "arr = lines.split('BOOM')\n",
    "text = ''\n",
    "print(arr)\n",
    "for word in arr:  \n",
    "    if word == '':\n",
    "        arr.remove('')\n",
    "print(' '.join(arr))"
   ]
  },
  {
   "cell_type": "markdown",
   "metadata": {},
   "source": [
    "### Задача 6 Если бы мне платили каждый раз (3 балла)\n",
    "Вам дан текст. Необходимо вычислить сколько раз встречается каждое слово в тексте, сколько различных слов было в тексте и сколько всего было слов. Затем замените количество появлений слова в тексте, на его частоту (количество встреч / общее количество слов в тексте). Найдите top 10 самых часто встречающихся слов длины > 3 и выпишите их.\n",
    "\n",
    "** Ввод ** <br>\n",
    "['my', 'world', 'my', 'rules']<br>\n",
    "** Вывод**<br>\n",
    "{'my':2, 'world':1, 'rules':1}<br>\n",
    "Различных слов - 3, всего слов - 4.<br>\n",
    "{'my':0.5, 'world':0.25, 'rules':0.25}<br> "
   ]
  },
  {
   "cell_type": "code",
   "execution_count": null,
   "metadata": {},
   "outputs": [],
   "source": [
    "text = '''\n",
    "Если б мне платили каждый раз\n",
    "Каждый раз, когда я думаю о тебе\n",
    "Я бы бомжевала возле трасс\n",
    "Я бы стала самой бедной из людей\n",
    "Если б мне платили каждый раз\n",
    "Каждый раз, когда я думаю о тебе\n",
    "Я бы бомжевала возле трасс\n",
    "Я бы стала самой бедной из людей\n",
    "\n",
    "«Где ты, когда ты не онлайн, когда я жду тебя в сети?\n",
    "В какие ссылки перейти, чтоб просто оказаться там?\n",
    "О чём ты думаешь сейчас? Давай среди берёз густых\n",
    "Читать любимый твой рассказ — страничку я, страничку ты\n",
    "Или в гости и просто чаю, и сердцами WhatsApp закидан»\n",
    "Но я снова не отвечаю. Я инкогнито — инкогнида\n",
    "Но если б мне платили, милый, каждый раз, когда взгляд твой дымный\n",
    "Мне мерещится где-то мимо, каждый раз, когда снишься ты мне\n",
    "\n",
    "Если б мне платили каждый раз\n",
    "Каждый раз, когда я думаю о тебе\n",
    "Я бы бомжевала возле трасс\n",
    "Я бы стала самой бедной из людей\n",
    "Если б мне платили каждый раз\n",
    "Каждый раз, когда я думаю о тебе\n",
    "Я бы бомжевала возле трасс\n",
    "Я бы стала самой бедной из людей\n",
    "\n",
    "Старая конфорка плещет нам, на двоих одна заварка\n",
    "За окном темно, в окне трещина, лампочка-луна над парком\n",
    "Я опять кручу на пальце прядь, пахну, как мамины духи\n",
    "Ты хочешь меня снять-снять-снять, а я хочу писать стихи-стихи\n",
    "\n",
    "Уезжай, чай не допивай. Снег или дождь там — уходи\n",
    "Пусть хоть всего переморосит, пусть хоть торнадо унесёт вдаль\n",
    "Может, есть ещё твой трамвай? Может, нет? Всё равно иди\n",
    "Там промозглый седой февраль — он теперь, как и ты, один\n",
    "И тебя не жаль, не жаль, не жаль. Хоть слоу-мо в дыме сигарет\n",
    "Даже в миноре и под рояль, даже под грустную скрипку - нет\n",
    "Если б ты не любил стихи, превратилась бы в звонкий ямб\n",
    "Если б был наркотою ты, фитоняшкой бы стала я\n",
    "\n",
    "Если б мне платили каждый раз\n",
    "Каждый раз, когда я думаю о тебе\n",
    "Я бы бомжевала возле трасс\n",
    "Я бы стала самой бедной из людей\n",
    "Если б мне платили каждый раз\n",
    "Каждый раз, когда я думаю о тебе\n",
    "Я бы бомжевала возле трасс\n",
    "Я бы стала самой бедной из людей'''"
   ]
  },
  {
   "cell_type": "code",
   "execution_count": null,
   "metadata": {},
   "outputs": [],
   "source": [
    "text = text.replace('?', '')\n",
    "text = text.replace('—', '')\n",
    "text = text.replace('-', '')\n",
    "text = text.replace(',', '')\n",
    "text = text.replace('«', '')\n",
    "text = text.replace('»', '')\n",
    "text = text.lower()\n",
    "arr = text.split()\n",
    "lists = {}\n",
    "lists1 = {}\n",
    "for letter in arr:\n",
    "    lists[letter] = 0\n",
    "for letter in arr:\n",
    "    lists[letter] += 1\n",
    "print('Массив (сколько раз встречается каждое слово в тексте):')\n",
    "print(lists)\n",
    "print('Всего разных слов:', len(lists) )\n",
    "print('Всего слов в тексте:', len(arr))\n",
    "for letter,value in lists.items():\n",
    "    #Я сделал ограничение в 4 символа после запятой, для большей точности. Просто 2 символа слишком мало.\n",
    "    lists[letter] = '%.4f' % (value/len(arr))\n",
    "i = 1\n",
    "for letter in sorted(lists, key=lists.get, reverse=True):\n",
    "    if len(letter) > 3:\n",
    "        if i <= 10:\n",
    "            lists1[letter] = lists[letter]\n",
    "            i += 1\n",
    "        else:\n",
    "            break\n",
    "print('Топ самых часто встречающихся слов:')\n",
    "print(lists1)"
   ]
  },
  {
   "cell_type": "markdown",
   "metadata": {},
   "source": [
    "### Задача 7 Последовательные строки (3 балла)\n",
    "На вход подается список, состоящий из строк, и целое число $k$. Ваша цель вывести на экран первую встретившуюся самую длинную строку, состоящую из k последовательных элементов списка. Если $k<0$, список пуст или $k >$ длины списка вывести пустую строку.\n",
    "<br>**Входные данные**:list = [\"cat\",\"city\",\"exception\",\"dog\",\"exception\",\"kick\"], $k = 2$. **Выходные данные**: \"cityexception\""
   ]
  },
  {
   "cell_type": "code",
   "execution_count": null,
   "metadata": {},
   "outputs": [],
   "source": [
    "lists = [\"cat\",\"city\",\"exception\",\"dog\",\"exception\",\"kick\"]\n",
    "k = int(input(\"k = \"))\n",
    "lists = list(set(lists))\n",
    "lists.sort()\n",
    "i = 1\n",
    "letters = []\n",
    "text = ''\n",
    "while i <= k:\n",
    "    big = ''\n",
    "    for number in range(len(lists)):\n",
    "        if len(big) < len(lists[number]):\n",
    "            big = lists[number]\n",
    "    i += 1\n",
    "    lists.remove(big)\n",
    "    letters.append(big)\n",
    "letters.sort()\n",
    "for let in letters:\n",
    "    text += let\n",
    "print(text)"
   ]
  },
  {
   "cell_type": "markdown",
   "metadata": {},
   "source": [
    "### Задача 8 Смайлики (1 балла)\n",
    "На вход подается список из смайликов. Правильные смайлики имеют следующую структуру: глаза это \":\" или \";\", нос - \"\", \"-\" или \"~\", улыбка - \")\" или \"D\". Ваша цель посчитать количество таких смайликов в списке. Пример правильных смайликов: \":-D\", \":)\", \";-D\" ,\":~D\". \n",
    "    <br> **Входные данные**: [':)', ';(', ';}', ':-D']. **Выходные данные**: 2"
   ]
  },
  {
   "cell_type": "code",
   "execution_count": null,
   "metadata": {},
   "outputs": [],
   "source": [
    "smiles = [':)', ';-)', ';D', ':-D']\n",
    "i = 0\n",
    "for smile in smiles:\n",
    "    if len(smile) == 3:\n",
    "        if smile[0] == ':' or smile[0] == ';':\n",
    "            if smile[1] == '' or smile[1] == '-' or smile[1] == '~':\n",
    "                if smile[2] == ')' or smile[2] == 'D':\n",
    "                    i += 1\n",
    "    elif len(smile) == 2:\n",
    "        if smile[0] == ':' or smile[0] == ';':\n",
    "            if smile[1] == ')' or smile[1] == 'D':\n",
    "                i += 1\n",
    "print(i)"
   ]
  },
  {
   "cell_type": "markdown",
   "metadata": {},
   "source": [
    "### Задача 9 \"+1\" (5 баллов)\n",
    "На вход подается строка. Если строка оканчивается на какое-то число, то ваша цель увеличить число на 1. В противном случае дописать 1 в конец строки.\n",
    "<br>**Входные данные**: python. **Выходные данные**: python1.\n",
    "<br>**Входные данные**: python23. **Выходные данные**: python24.\n",
    "<br>**Входные данные**: python099. **Выходные данные**: python100.\n",
    "<br>**Входные данные**: python0042. **Выходные данные**: python0043."
   ]
  },
  {
   "cell_type": "code",
   "execution_count": null,
   "metadata": {},
   "outputs": [],
   "source": [
    "text = input('Введите текст: ')\n",
    "number = ''\n",
    "i = 0\n",
    "for val in range(len(text)):\n",
    "    if text[-(val+1)].isdigit():\n",
    "        if int(text[-(val+1)]) < 9:\n",
    "            number = text[-(val+1)] + number\n",
    "            i = val + 1\n",
    "            break\n",
    "        elif int(text[-(val+1)]) == 9:\n",
    "             number = text[-(val+1)] + number\n",
    "if not number:\n",
    "    lastNumber = 1\n",
    "else:  \n",
    "    lastNumber = int(number) + 1\n",
    "text = text[:(len(text)-i)] + str(lastNumber)\n",
    "print(text)      "
   ]
  },
  {
   "cell_type": "markdown",
   "metadata": {},
   "source": [
    "### Задача 10 \"Волна\" (1 балл)\n",
    "На вход подается строка. Ваша цель вывести список, в котором буквы в элементах этого списка будет напоминать волну на стадионе, то есть на i позиции буква будет в верхнем регистре.\n",
    "<br>**Входные данные**: \"python\" **Выходные данные**: [\"Python\",\"pYthon\",\"pyThon\",\"pytHon\",\"pythOn\",\"pythoN\"]\n",
    "*Подсказка*: прочитайте про методы upper() и lower() для строк."
   ]
  },
  {
   "cell_type": "code",
   "execution_count": null,
   "metadata": {},
   "outputs": [],
   "source": [
    "letter = input('Введите слово: ').lower()\n",
    "arr = []\n",
    "for val in range(len(letter)):\n",
    "    let = letter[:(val)] + letter[val].upper() + letter[(val + 1):]\n",
    "    arr.append(let)\n",
    "print(arr)"
   ]
  }
 ],
 "metadata": {
  "kernelspec": {
   "display_name": "Python 3",
   "language": "python",
   "name": "python3"
  },
  "language_info": {
   "codemirror_mode": {
    "name": "ipython",
    "version": 3
   },
   "file_extension": ".py",
   "mimetype": "text/x-python",
   "name": "python",
   "nbconvert_exporter": "python",
   "pygments_lexer": "ipython3",
   "version": "3.7.0"
  }
 },
 "nbformat": 4,
 "nbformat_minor": 2
}
